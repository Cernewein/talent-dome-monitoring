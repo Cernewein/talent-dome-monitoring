{
 "cells": [
  {
   "cell_type": "code",
   "execution_count": 7,
   "metadata": {},
   "outputs": [],
   "source": [
    "import pandas as pd\n",
    "import glob\n",
    "from datetime import datetime"
   ]
  },
  {
   "cell_type": "code",
   "execution_count": 2,
   "metadata": {},
   "outputs": [],
   "source": [
    "DATA_FILES = glob.glob(\"./data/*.csv\")\n",
    "\n",
    "data_df = pd.DataFrame()\n",
    "for file in DATA_FILES:\n",
    "    temp_df = pd.read_csv(file, header = 0, sep = \";\")\n",
    "    data_df = pd.concat([data_df, temp_df])"
   ]
  },
  {
   "cell_type": "code",
   "execution_count": 3,
   "metadata": {},
   "outputs": [],
   "source": [
    "data_df = data_df.loc[:,[\"date\", \"totalPeakPower\"]]\n",
    "data_df[\"date\"] = pd.to_datetime(data_df[\"date\"], format = \"%Y-%m-%d %H:%M:%S\", utc = True)\n",
    "data_df[\"Date day\"] = data_df[\"date\"].dt.floor(\"1d\")"
   ]
  },
  {
   "cell_type": "code",
   "execution_count": 9,
   "metadata": {},
   "outputs": [],
   "source": [
    "data_df = data_df.drop_duplicates([\"Date day\", \"totalPeakPower\"])\n",
    "data_df[\"Total Energy (kWh)\"] = data_df.loc[:,\"totalPeakPower\"] * 5 /60 / 1000\n",
    "\n",
    "grouped_data_df = data_df.groupby(\"Date day\").agg({\"Total Energy (kWh)\":\"sum\"}).reset_index()\n",
    "grouped_data_df[\"Date day\"] = grouped_data_df[\"Date day\"].map(lambda x: datetime.strftime(x, \"%Y-%m-%d\"))\n",
    "grouped_data_df.to_csv(\"produced_energy_per_day_2024.csv\", index = False, sep = \";\")"
   ]
  },
  {
   "cell_type": "code",
   "execution_count": 5,
   "metadata": {},
   "outputs": [
    {
     "data": {
      "text/plain": [
       "np.float64(7.523734481619722)"
      ]
     },
     "execution_count": 5,
     "metadata": {},
     "output_type": "execute_result"
    }
   ],
   "source": [
    "data_df[\"Total Energy (kWh)\"].sum()/1000"
   ]
  },
  {
   "cell_type": "code",
   "execution_count": null,
   "metadata": {},
   "outputs": [],
   "source": []
  }
 ],
 "metadata": {
  "kernelspec": {
   "display_name": "talent-home-monitor-wNVi7Pvm-py3.12",
   "language": "python",
   "name": "python3"
  },
  "language_info": {
   "codemirror_mode": {
    "name": "ipython",
    "version": 3
   },
   "file_extension": ".py",
   "mimetype": "text/x-python",
   "name": "python",
   "nbconvert_exporter": "python",
   "pygments_lexer": "ipython3",
   "version": "3.12.0"
  }
 },
 "nbformat": 4,
 "nbformat_minor": 2
}
